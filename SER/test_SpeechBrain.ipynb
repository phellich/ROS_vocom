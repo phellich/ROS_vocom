{
 "cells": [
  {
   "cell_type": "code",
   "execution_count": 11,
   "metadata": {},
   "outputs": [
    {
     "name": "stdout",
     "output_type": "stream",
     "text": [
      "^C\n",
      "Requirement already satisfied: transformers in c:\\users\\lhep\\appdata\\local\\anaconda3\\envs\\envs2c\\lib\\site-packages (4.30.0)\n",
      "Requirement already satisfied: filelock in c:\\users\\lhep\\appdata\\local\\anaconda3\\envs\\envs2c\\lib\\site-packages (from transformers) (3.16.1)\n",
      "Requirement already satisfied: huggingface-hub<1.0,>=0.14.1 in c:\\users\\lhep\\appdata\\local\\anaconda3\\envs\\envs2c\\lib\\site-packages (from transformers) (0.26.2)\n",
      "Requirement already satisfied: numpy>=1.17 in c:\\users\\lhep\\appdata\\local\\anaconda3\\envs\\envs2c\\lib\\site-packages (from transformers) (2.0.2)\n",
      "Requirement already satisfied: packaging>=20.0 in c:\\users\\lhep\\appdata\\local\\anaconda3\\envs\\envs2c\\lib\\site-packages (from transformers) (24.2)\n",
      "Requirement already satisfied: pyyaml>=5.1 in c:\\users\\lhep\\appdata\\local\\anaconda3\\envs\\envs2c\\lib\\site-packages (from transformers) (6.0.2)\n",
      "Requirement already satisfied: regex!=2019.12.17 in c:\\users\\lhep\\appdata\\local\\anaconda3\\envs\\envs2c\\lib\\site-packages (from transformers) (2024.11.6)\n",
      "Requirement already satisfied: requests in c:\\users\\lhep\\appdata\\local\\anaconda3\\envs\\envs2c\\lib\\site-packages (from transformers) (2.32.3)\n",
      "Requirement already satisfied: tokenizers!=0.11.3,<0.14,>=0.11.1 in c:\\users\\lhep\\appdata\\local\\anaconda3\\envs\\envs2c\\lib\\site-packages (from transformers) (0.13.3)\n",
      "Requirement already satisfied: safetensors>=0.3.1 in c:\\users\\lhep\\appdata\\local\\anaconda3\\envs\\envs2c\\lib\\site-packages (from transformers) (0.4.5)\n",
      "Requirement already satisfied: tqdm>=4.27 in c:\\users\\lhep\\appdata\\local\\anaconda3\\envs\\envs2c\\lib\\site-packages (from transformers) (4.67.0)\n",
      "Requirement already satisfied: fsspec>=2023.5.0 in c:\\users\\lhep\\appdata\\local\\anaconda3\\envs\\envs2c\\lib\\site-packages (from huggingface-hub<1.0,>=0.14.1->transformers) (2024.10.0)\n",
      "Requirement already satisfied: typing-extensions>=3.7.4.3 in c:\\users\\lhep\\appdata\\local\\anaconda3\\envs\\envs2c\\lib\\site-packages (from huggingface-hub<1.0,>=0.14.1->transformers) (4.12.2)\n",
      "Requirement already satisfied: colorama in c:\\users\\lhep\\appdata\\local\\anaconda3\\envs\\envs2c\\lib\\site-packages (from tqdm>=4.27->transformers) (0.4.6)\n",
      "Requirement already satisfied: charset-normalizer<4,>=2 in c:\\users\\lhep\\appdata\\local\\anaconda3\\envs\\envs2c\\lib\\site-packages (from requests->transformers) (3.4.0)\n",
      "Requirement already satisfied: idna<4,>=2.5 in c:\\users\\lhep\\appdata\\local\\anaconda3\\envs\\envs2c\\lib\\site-packages (from requests->transformers) (3.10)\n",
      "Requirement already satisfied: urllib3<3,>=1.21.1 in c:\\users\\lhep\\appdata\\local\\anaconda3\\envs\\envs2c\\lib\\site-packages (from requests->transformers) (2.2.3)\n",
      "Requirement already satisfied: certifi>=2017.4.17 in c:\\users\\lhep\\appdata\\local\\anaconda3\\envs\\envs2c\\lib\\site-packages (from requests->transformers) (2024.8.30)\n"
     ]
    }
   ],
   "source": [
    "!pip uninstall transformers\n",
    "!pip install transformers\n"
   ]
  },
  {
   "cell_type": "code",
   "execution_count": 4,
   "metadata": {},
   "outputs": [
    {
     "ename": "ImportError",
     "evalue": "cannot import name 'Wav2Vec2ForSpeechClassification' from 'transformers' (c:\\Users\\lhep\\AppData\\Local\\anaconda3\\envs\\envS2C\\lib\\site-packages\\transformers\\__init__.py)",
     "output_type": "error",
     "traceback": [
      "\u001b[1;31m---------------------------------------------------------------------------\u001b[0m",
      "\u001b[1;31mImportError\u001b[0m                               Traceback (most recent call last)",
      "Cell \u001b[1;32mIn[4], line 2\u001b[0m\n\u001b[0;32m      1\u001b[0m \u001b[38;5;66;03m# Load model directly\u001b[39;00m\n\u001b[1;32m----> 2\u001b[0m \u001b[38;5;28;01mfrom\u001b[39;00m \u001b[38;5;21;01mtransformers\u001b[39;00m \u001b[38;5;28;01mimport\u001b[39;00m AutoProcessor, Wav2Vec2ForSpeechClassification\n\u001b[0;32m      4\u001b[0m processor \u001b[38;5;241m=\u001b[39m AutoProcessor\u001b[38;5;241m.\u001b[39mfrom_pretrained(\u001b[38;5;124m\"\u001b[39m\u001b[38;5;124mr-f/wav2vec-english-speech-emotion-recognition\u001b[39m\u001b[38;5;124m\"\u001b[39m)\n\u001b[0;32m      5\u001b[0m model \u001b[38;5;241m=\u001b[39m Wav2Vec2ForSpeechClassification\u001b[38;5;241m.\u001b[39mfrom_pretrained(\u001b[38;5;124m\"\u001b[39m\u001b[38;5;124mr-f/wav2vec-english-speech-emotion-recognition\u001b[39m\u001b[38;5;124m\"\u001b[39m)\n",
      "\u001b[1;31mImportError\u001b[0m: cannot import name 'Wav2Vec2ForSpeechClassification' from 'transformers' (c:\\Users\\lhep\\AppData\\Local\\anaconda3\\envs\\envS2C\\lib\\site-packages\\transformers\\__init__.py)"
     ]
    }
   ],
   "source": [
    "# Load model directly\n",
    "from transformers import AutoProcessor, Wav2Vec2ForSpeechClassification\n",
    "\n",
    "processor = AutoProcessor.from_pretrained(\"r-f/wav2vec-english-speech-emotion-recognition\")\n",
    "model = Wav2Vec2ForSpeechClassification.from_pretrained(\"r-f/wav2vec-english-speech-emotion-recognition\")"
   ]
  },
  {
   "cell_type": "code",
   "execution_count": 7,
   "metadata": {},
   "outputs": [
    {
     "name": "stdout",
     "output_type": "stream",
     "text": [
      "Unexpected exception formatting exception. Falling back to standard exception\n"
     ]
    },
    {
     "name": "stderr",
     "output_type": "stream",
     "text": [
      "Traceback (most recent call last):\n",
      "  File \"c:\\Users\\lhep\\AppData\\Local\\anaconda3\\envs\\envS2C\\lib\\site-packages\\transformers\\utils\\import_utils.py\", line 1778, in _get_module\n",
      "  File \"c:\\Users\\lhep\\AppData\\Local\\anaconda3\\envs\\envS2C\\lib\\importlib\\__init__.py\", line 127, in import_module\n",
      "    return _bootstrap._gcd_import(name[level:], package, level)\n",
      "  File \"<frozen importlib._bootstrap>\", line 1030, in _gcd_import\n",
      "  File \"<frozen importlib._bootstrap>\", line 1007, in _find_and_load\n",
      "  File \"<frozen importlib._bootstrap>\", line 986, in _find_and_load_unlocked\n",
      "  File \"<frozen importlib._bootstrap>\", line 680, in _load_unlocked\n",
      "  File \"<frozen importlib._bootstrap_external>\", line 850, in exec_module\n",
      "  File \"<frozen importlib._bootstrap>\", line 228, in _call_with_frames_removed\n",
      "  File \"c:\\Users\\lhep\\AppData\\Local\\anaconda3\\envs\\envS2C\\lib\\site-packages\\transformers\\models\\wav2vec2\\modeling_wav2vec2.py\", line 40, in <module>\n",
      "    from ...modeling_utils import PreTrainedModel\n",
      "  File \"c:\\Users\\lhep\\AppData\\Local\\anaconda3\\envs\\envS2C\\lib\\site-packages\\transformers\\modeling_utils.py\", line 46, in <module>\n",
      "    from .generation import CompileConfig, GenerationConfig, GenerationMixin\n",
      "ImportError: cannot import name 'CompileConfig' from 'transformers.generation' (c:\\Users\\lhep\\AppData\\Local\\anaconda3\\envs\\envS2C\\lib\\site-packages\\transformers\\generation\\__init__.py)\n",
      "\n",
      "The above exception was the direct cause of the following exception:\n",
      "\n",
      "Traceback (most recent call last):\n",
      "  File \"c:\\Users\\lhep\\AppData\\Local\\anaconda3\\envs\\envS2C\\lib\\site-packages\\IPython\\core\\interactiveshell.py\", line 3550, in run_code\n",
      "    exec(code_obj, self.user_global_ns, self.user_ns)\n",
      "  File \"C:\\Users\\lhep\\AppData\\Local\\Temp\\ipykernel_23380\\2845774141.py\", line 1, in <module>\n",
      "    from transformers import AutoProcessor, Wav2Vec2ForSequenceClassification\n",
      "  File \"<frozen importlib._bootstrap>\", line 1055, in _handle_fromlist\n",
      "  File \"c:\\Users\\lhep\\AppData\\Local\\anaconda3\\envs\\envS2C\\lib\\site-packages\\transformers\\utils\\import_utils.py\", line 1767, in __getattr__\n",
      "    if name in self._object_missing_backend.keys():\n",
      "  File \"c:\\Users\\lhep\\AppData\\Local\\anaconda3\\envs\\envS2C\\lib\\site-packages\\transformers\\utils\\import_utils.py\", line 1766, in __getattr__\n",
      "    return self._objects[name]\n",
      "  File \"c:\\Users\\lhep\\AppData\\Local\\anaconda3\\envs\\envS2C\\lib\\site-packages\\transformers\\utils\\import_utils.py\", line 1780, in _get_module\n",
      "    elif name in self._class_to_module.keys():\n",
      "RuntimeError: Failed to import transformers.models.wav2vec2.modeling_wav2vec2 because of the following error (look up to see its traceback):\n",
      "cannot import name 'CompileConfig' from 'transformers.generation' (c:\\Users\\lhep\\AppData\\Local\\anaconda3\\envs\\envS2C\\lib\\site-packages\\transformers\\generation\\__init__.py)\n",
      "\n",
      "During handling of the above exception, another exception occurred:\n",
      "\n",
      "Traceback (most recent call last):\n",
      "  File \"c:\\Users\\lhep\\AppData\\Local\\anaconda3\\envs\\envS2C\\lib\\site-packages\\IPython\\core\\interactiveshell.py\", line 2144, in showtraceback\n",
      "    stb = self.InteractiveTB.structured_traceback(\n",
      "  File \"c:\\Users\\lhep\\AppData\\Local\\anaconda3\\envs\\envS2C\\lib\\site-packages\\IPython\\core\\ultratb.py\", line 1435, in structured_traceback\n",
      "    return FormattedTB.structured_traceback(\n",
      "  File \"c:\\Users\\lhep\\AppData\\Local\\anaconda3\\envs\\envS2C\\lib\\site-packages\\IPython\\core\\ultratb.py\", line 1326, in structured_traceback\n",
      "    return VerboseTB.structured_traceback(\n",
      "  File \"c:\\Users\\lhep\\AppData\\Local\\anaconda3\\envs\\envS2C\\lib\\site-packages\\IPython\\core\\ultratb.py\", line 1192, in structured_traceback\n",
      "    formatted_exceptions += self.format_exception_as_a_whole(etype, evalue, etb, lines_of_context,\n",
      "  File \"c:\\Users\\lhep\\AppData\\Local\\anaconda3\\envs\\envS2C\\lib\\site-packages\\IPython\\core\\ultratb.py\", line 1088, in format_exception_as_a_whole\n",
      "    frames.append(self.format_record(record))\n",
      "  File \"c:\\Users\\lhep\\AppData\\Local\\anaconda3\\envs\\envS2C\\lib\\site-packages\\IPython\\core\\ultratb.py\", line 970, in format_record\n",
      "    frame_info.lines, Colors, self.has_colors, lvals\n",
      "  File \"c:\\Users\\lhep\\AppData\\Local\\anaconda3\\envs\\envS2C\\lib\\site-packages\\IPython\\core\\ultratb.py\", line 792, in lines\n",
      "    return self._sd.lines\n",
      "  File \"c:\\Users\\lhep\\AppData\\Local\\anaconda3\\envs\\envS2C\\lib\\site-packages\\stack_data\\utils.py\", line 145, in cached_property_wrapper\n",
      "    value = obj.__dict__[self.func.__name__] = self.func(obj)\n",
      "  File \"c:\\Users\\lhep\\AppData\\Local\\anaconda3\\envs\\envS2C\\lib\\site-packages\\stack_data\\core.py\", line 734, in lines\n",
      "    pieces = self.included_pieces\n",
      "  File \"c:\\Users\\lhep\\AppData\\Local\\anaconda3\\envs\\envS2C\\lib\\site-packages\\stack_data\\utils.py\", line 145, in cached_property_wrapper\n",
      "    value = obj.__dict__[self.func.__name__] = self.func(obj)\n",
      "  File \"c:\\Users\\lhep\\AppData\\Local\\anaconda3\\envs\\envS2C\\lib\\site-packages\\stack_data\\core.py\", line 681, in included_pieces\n",
      "    pos = scope_pieces.index(self.executing_piece)\n",
      "  File \"c:\\Users\\lhep\\AppData\\Local\\anaconda3\\envs\\envS2C\\lib\\site-packages\\stack_data\\utils.py\", line 145, in cached_property_wrapper\n",
      "    value = obj.__dict__[self.func.__name__] = self.func(obj)\n",
      "  File \"c:\\Users\\lhep\\AppData\\Local\\anaconda3\\envs\\envS2C\\lib\\site-packages\\stack_data\\core.py\", line 660, in executing_piece\n",
      "    return only(\n",
      "  File \"c:\\Users\\lhep\\AppData\\Local\\anaconda3\\envs\\envS2C\\lib\\site-packages\\executing\\executing.py\", line 116, in only\n",
      "    raise NotOneValueFound('Expected one value, found 0')\n",
      "executing.executing.NotOneValueFound: Expected one value, found 0\n"
     ]
    }
   ],
   "source": [
    "\n",
    "import torch\n",
    "import torchaudio\n",
    "\n",
    "# Charger le processeur et le modèle\n",
    "processor = AutoProcessor.from_pretrained(\"r-f/wav2vec-english-speech-emotion-recognition\")\n",
    "model = Wav2Vec2ForSequenceClassification.from_pretrained(\"r-f/wav2vec-english-speech-emotion-recognition\")\n",
    "\n",
    "# Charger l'audio\n",
    "waveform, sample_rate = torchaudio.load(\"chemin/vers/votre/audio.wav\")\n",
    "\n",
    "# Préparer l'audio pour le modèle\n",
    "inputs = processor(waveform, sampling_rate=sample_rate, return_tensors=\"pt\", padding=True)\n",
    "\n",
    "# Faire la prédiction\n",
    "with torch.no_grad():\n",
    "    logits = model(**inputs).logits\n",
    "\n",
    "# Convertir les logits en prédiction d'émotion\n",
    "predicted_class_id = torch.argmax(logits, dim=-1)\n",
    "emotion = processor.decode(predicted_class_id)\n",
    "print(f\"L'émotion prédite est : {emotion}\")\n"
   ]
  },
  {
   "cell_type": "code",
   "execution_count": null,
   "metadata": {},
   "outputs": [],
   "source": []
  }
 ],
 "metadata": {
  "kernelspec": {
   "display_name": "envS2C",
   "language": "python",
   "name": "python3"
  },
  "language_info": {
   "codemirror_mode": {
    "name": "ipython",
    "version": 3
   },
   "file_extension": ".py",
   "mimetype": "text/x-python",
   "name": "python",
   "nbconvert_exporter": "python",
   "pygments_lexer": "ipython3",
   "version": "3.9.20"
  }
 },
 "nbformat": 4,
 "nbformat_minor": 2
}

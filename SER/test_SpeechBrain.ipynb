{
 "cells": [
  {
   "cell_type": "code",
   "execution_count": null,
   "metadata": {},
   "outputs": [
    {
     "ename": "",
     "evalue": "",
     "output_type": "error",
     "traceback": [
      "\u001b[1;31mRunning cells with 'Python 3.11.10' requires the ipykernel package.\n",
      "\u001b[1;31mRun the following command to install 'ipykernel' into the Python environment. \n",
      "\u001b[1;31mCommand: '/bin/python3.11 -m pip install ipykernel -U --user --force-reinstall'"
     ]
    }
   ],
   "source": [
    "from speechbrain.pretrained import EncoderClassifier\n",
    "\n",
    "# Charger un modèle pré-entraîné pour l'émotion\n",
    "classifier = EncoderClassifier.from_hparams(source=\"speechbrain/emotion-recognition-wav2vec2\", savedir=\"tmp\")\n",
    "\n",
    "# Analyser un fichier audio\n",
    "emotion = classifier.classify_file(\"path_to_your_audio.wav\")\n",
    "print(\"Émotion détectée:\", emotion)\n"
   ]
  },
  {
   "cell_type": "code",
   "execution_count": null,
   "metadata": {},
   "outputs": [],
   "source": []
  }
 ],
 "metadata": {
  "kernelspec": {
   "display_name": "Python 3",
   "language": "python",
   "name": "python3"
  },
  "language_info": {
   "name": "python",
   "version": "3.11.10"
  }
 },
 "nbformat": 4,
 "nbformat_minor": 2
}
